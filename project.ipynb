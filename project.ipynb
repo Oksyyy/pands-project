{
 "cells": [
  {
   "cell_type": "markdown",
   "metadata": {},
   "source": [
    "### Import required modules"
   ]
  },
  {
   "cell_type": "code",
   "execution_count": 165,
   "metadata": {},
   "outputs": [],
   "source": [
    "import pandas as pd"
   ]
  },
  {
   "cell_type": "markdown",
   "metadata": {},
   "source": [
    "### Load data"
   ]
  },
  {
   "cell_type": "markdown",
   "metadata": {},
   "source": [
    "The Iris dataset source: Fisher, R. (1936). Iris [Dataset]. UCI Machine Learning Repository. https://doi.org/10.24432/C56C76.\n",
    "\n",
    "Since the dataset is structured using comma-separated values, we can use the [pandas.read_csv](https://pandas.pydata.org/docs/reference/api/pandas.read_csv.html) function to load it for analysis."
   ]
  },
  {
   "cell_type": "code",
   "execution_count": 166,
   "metadata": {},
   "outputs": [
    {
     "data": {
      "text/html": [
       "<div>\n",
       "<style scoped>\n",
       "    .dataframe tbody tr th:only-of-type {\n",
       "        vertical-align: middle;\n",
       "    }\n",
       "\n",
       "    .dataframe tbody tr th {\n",
       "        vertical-align: top;\n",
       "    }\n",
       "\n",
       "    .dataframe thead th {\n",
       "        text-align: right;\n",
       "    }\n",
       "</style>\n",
       "<table border=\"1\" class=\"dataframe\">\n",
       "  <thead>\n",
       "    <tr style=\"text-align: right;\">\n",
       "      <th></th>\n",
       "      <th>sepal_length</th>\n",
       "      <th>sepal_width</th>\n",
       "      <th>petal_length</th>\n",
       "      <th>petal_width</th>\n",
       "      <th>class</th>\n",
       "    </tr>\n",
       "  </thead>\n",
       "  <tbody>\n",
       "    <tr>\n",
       "      <th>0</th>\n",
       "      <td>5.1</td>\n",
       "      <td>3.5</td>\n",
       "      <td>1.4</td>\n",
       "      <td>0.2</td>\n",
       "      <td>Iris-setosa</td>\n",
       "    </tr>\n",
       "    <tr>\n",
       "      <th>1</th>\n",
       "      <td>4.9</td>\n",
       "      <td>3.0</td>\n",
       "      <td>1.4</td>\n",
       "      <td>0.2</td>\n",
       "      <td>Iris-setosa</td>\n",
       "    </tr>\n",
       "    <tr>\n",
       "      <th>2</th>\n",
       "      <td>4.7</td>\n",
       "      <td>3.2</td>\n",
       "      <td>1.3</td>\n",
       "      <td>0.2</td>\n",
       "      <td>Iris-setosa</td>\n",
       "    </tr>\n",
       "    <tr>\n",
       "      <th>3</th>\n",
       "      <td>4.6</td>\n",
       "      <td>3.1</td>\n",
       "      <td>1.5</td>\n",
       "      <td>0.2</td>\n",
       "      <td>Iris-setosa</td>\n",
       "    </tr>\n",
       "    <tr>\n",
       "      <th>4</th>\n",
       "      <td>5.0</td>\n",
       "      <td>3.6</td>\n",
       "      <td>1.4</td>\n",
       "      <td>0.2</td>\n",
       "      <td>Iris-setosa</td>\n",
       "    </tr>\n",
       "  </tbody>\n",
       "</table>\n",
       "</div>"
      ],
      "text/plain": [
       "   sepal_length  sepal_width  petal_length  petal_width        class\n",
       "0           5.1          3.5           1.4          0.2  Iris-setosa\n",
       "1           4.9          3.0           1.4          0.2  Iris-setosa\n",
       "2           4.7          3.2           1.3          0.2  Iris-setosa\n",
       "3           4.6          3.1           1.5          0.2  Iris-setosa\n",
       "4           5.0          3.6           1.4          0.2  Iris-setosa"
      ]
     },
     "execution_count": 166,
     "metadata": {},
     "output_type": "execute_result"
    }
   ],
   "source": [
    "# Pass the file name when calling pandas read_csv() function\n",
    "# Specifing separator is optional in this case as pandas automatically detects commas\n",
    "# The file doesn't include a header row as confirmed by checking the original data source\n",
    "# Column names were manually assigned based on iris.names metadata file\n",
    "iris_df = pd.read_csv(\"iris.data\", sep=',', names=['sepal_length', 'sepal_width', 'petal_length', 'petal_width', 'class'])\n",
    "\n",
    "# Use pandas head function to show the first 5 rows giving an idea of the dataset structure\n",
    "iris_df.head(5)"
   ]
  },
  {
   "cell_type": "markdown",
   "metadata": {},
   "source": [
    "### Features Summary\n",
    "\n",
    "Since the dataset contains four numerical features and one categorical feature (`class`), we analyse each feature separately using the appropriate statistics measures.\n",
    "\n",
    "For the numerical features we summarise data using [pandas.DataFrame](https://pandas.pydata.org/docs/reference/api/pandas.DataFrame.mean.html)  functions, calculating mean, median, standard deviation, minimum and maximum values. \n",
    "\n",
    "For categorical feature, we identify the numbur of unique classes and values count per each calss."
   ]
  },
  {
   "cell_type": "code",
   "execution_count": 167,
   "metadata": {},
   "outputs": [],
   "source": [
    "# Sepal length - Statistics Summary\n",
    "mean = iris_df['sepal_length'].mean()\n",
    "median = iris_df['sepal_length'].median()\n",
    "st_dev = iris_df['sepal_length'].std()\n",
    "min = iris_df['sepal_length'].min()\n",
    "max = iris_df['sepal_length'].max() \n",
    "\n",
    "sepal_len_txt = (f'Sepal length\\n\\n'\n",
    "                      f'Mean:\\t\\t{mean}\\n'\n",
    "                      f'Median:\\t\\t{median}\\n'\n",
    "                      f'Std Dev:\\t{st_dev}\\n' \n",
    "                      f'Min:\\t\\t{min}\\n' \n",
    "                      f'Max:\\t\\t{max}')"
   ]
  },
  {
   "cell_type": "code",
   "execution_count": 168,
   "metadata": {},
   "outputs": [],
   "source": [
    "# Sepal width - Statistics Summary\n",
    "mean = iris_df['sepal_width'].mean()\n",
    "median = iris_df['sepal_width'].median()\n",
    "st_dev = iris_df['sepal_width'].std()\n",
    "min = iris_df['sepal_width'].min()\n",
    "max = iris_df['sepal_width'].max()\n",
    "\n",
    "sepal_wid_txt = (f'Sepal width\\n\\n'\n",
    "                      f'Mean:\\t\\t{mean}\\n'\n",
    "                      f'Median:\\t\\t{median}\\n'\n",
    "                      f'Std Dev:\\t{st_dev}\\n' \n",
    "                      f'Min:\\t\\t{min}\\n' \n",
    "                      f'Max:\\t\\t{max}')"
   ]
  },
  {
   "cell_type": "code",
   "execution_count": 169,
   "metadata": {},
   "outputs": [],
   "source": [
    "# Petal length - Statistics Summary \n",
    "mean = iris_df['petal_length'].mean()\n",
    "median = iris_df['petal_length'].median()\n",
    "st_dev = iris_df['petal_length'].std()\n",
    "min = iris_df['petal_length'].min()\n",
    "max = iris_df['petal_length'].max()\n",
    "\n",
    "petal_len_txt = (f'Petal length\\n\\n'\n",
    "                      f'Mean:\\t\\t{mean}\\n'\n",
    "                      f'Median:\\t\\t{median}\\n'\n",
    "                      f'Std Dev:\\t{st_dev}\\n' \n",
    "                      f'Min:\\t\\t{min}\\n' \n",
    "                      f'Max:\\t\\t{max}')"
   ]
  },
  {
   "cell_type": "code",
   "execution_count": 170,
   "metadata": {},
   "outputs": [],
   "source": [
    "# Petal width - Statistics Summary\n",
    "mean = iris_df['petal_width'].mean()\n",
    "median = iris_df['petal_width'].median()\n",
    "st_dev = iris_df['petal_width'].std()       \n",
    "min = iris_df['petal_width'].min()\n",
    "max = iris_df['petal_width'].max()\n",
    "\n",
    "petal_wid_txt = (f'Petal width\\n\\n'\n",
    "                      f'Mean:\\t\\t{mean}\\n'\n",
    "                      f'Median:\\t\\t{median}\\n'\n",
    "                      f'Std Dev:\\t{st_dev}\\n' \n",
    "                      f'Min:\\t\\t{min}\\n' \n",
    "                      f'Max:\\t\\t{max}')"
   ]
  },
  {
   "cell_type": "code",
   "execution_count": 175,
   "metadata": {},
   "outputs": [],
   "source": [
    "# Class - Statistics Summary\n",
    "unique_class = iris_df['class'].unique()\n",
    "val_count = iris_df['class'].value_counts()\n",
    "\n",
    "class_txt = (f'Class\\n\\n'\n",
    "                  f'Unique values:\\t{unique_class}\\n'\n",
    "                  f'Value counts:\\n{val_count}\\n')"
   ]
  },
  {
   "cell_type": "code",
   "execution_count": 176,
   "metadata": {},
   "outputs": [],
   "source": [
    "filename = 'summary.txt'\n",
    "\n",
    "with open(filename, 'w') as f:\n",
    "    f.write(f'{sepal_len_txt}')\n",
    "    f.write('\\n\\n\\n')\n",
    "    f.write(f'{sepal_wid_txt}')\n",
    "    f.write('\\n\\n\\n')\n",
    "    f.write(f'{petal_len_txt}')\n",
    "    f.write('\\n\\n\\n')\n",
    "    f.write(f'{petal_wid_txt}')\n",
    "    f.write('\\n\\n\\n')\n",
    "    f.write(f'{class_txt}')\n",
    "\n"
   ]
  }
 ],
 "metadata": {
  "kernelspec": {
   "display_name": "base",
   "language": "python",
   "name": "python3"
  },
  "language_info": {
   "codemirror_mode": {
    "name": "ipython",
    "version": 3
   },
   "file_extension": ".py",
   "mimetype": "text/x-python",
   "name": "python",
   "nbconvert_exporter": "python",
   "pygments_lexer": "ipython3",
   "version": "3.11.5"
  }
 },
 "nbformat": 4,
 "nbformat_minor": 2
}
