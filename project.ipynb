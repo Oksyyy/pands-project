{
 "cells": [
  {
   "cell_type": "markdown",
   "metadata": {},
   "source": [
    "# Iris Dataset Analysis"
   ]
  },
  {
   "cell_type": "markdown",
   "metadata": {},
   "source": [
    "### Import required modules"
   ]
  },
  {
   "cell_type": "code",
   "execution_count": 165,
   "metadata": {},
   "outputs": [],
   "source": [
    "import pandas as pd"
   ]
  },
  {
   "cell_type": "markdown",
   "metadata": {},
   "source": [
    "### Load data"
   ]
  },
  {
   "cell_type": "markdown",
   "metadata": {},
   "source": [
    "The Iris dataset source: Fisher, R. (1936). Iris [Dataset]. UCI Machine Learning Repository. https://doi.org/10.24432/C56C76.\n",
    "\n",
    "Since the dataset is structured using comma-separated values, we can use the [pandas.read_csv](https://pandas.pydata.org/docs/reference/api/pandas.read_csv.html) function to load it for analysis."
   ]
  },
  {
   "cell_type": "code",
   "execution_count": 166,
   "metadata": {},
   "outputs": [
    {
     "data": {
      "text/html": [
       "<div>\n",
       "<style scoped>\n",
       "    .dataframe tbody tr th:only-of-type {\n",
       "        vertical-align: middle;\n",
       "    }\n",
       "\n",
       "    .dataframe tbody tr th {\n",
       "        vertical-align: top;\n",
       "    }\n",
       "\n",
       "    .dataframe thead th {\n",
       "        text-align: right;\n",
       "    }\n",
       "</style>\n",
       "<table border=\"1\" class=\"dataframe\">\n",
       "  <thead>\n",
       "    <tr style=\"text-align: right;\">\n",
       "      <th></th>\n",
       "      <th>sepal_length</th>\n",
       "      <th>sepal_width</th>\n",
       "      <th>petal_length</th>\n",
       "      <th>petal_width</th>\n",
       "      <th>class</th>\n",
       "    </tr>\n",
       "  </thead>\n",
       "  <tbody>\n",
       "    <tr>\n",
       "      <th>0</th>\n",
       "      <td>5.1</td>\n",
       "      <td>3.5</td>\n",
       "      <td>1.4</td>\n",
       "      <td>0.2</td>\n",
       "      <td>Iris-setosa</td>\n",
       "    </tr>\n",
       "    <tr>\n",
       "      <th>1</th>\n",
       "      <td>4.9</td>\n",
       "      <td>3.0</td>\n",
       "      <td>1.4</td>\n",
       "      <td>0.2</td>\n",
       "      <td>Iris-setosa</td>\n",
       "    </tr>\n",
       "    <tr>\n",
       "      <th>2</th>\n",
       "      <td>4.7</td>\n",
       "      <td>3.2</td>\n",
       "      <td>1.3</td>\n",
       "      <td>0.2</td>\n",
       "      <td>Iris-setosa</td>\n",
       "    </tr>\n",
       "    <tr>\n",
       "      <th>3</th>\n",
       "      <td>4.6</td>\n",
       "      <td>3.1</td>\n",
       "      <td>1.5</td>\n",
       "      <td>0.2</td>\n",
       "      <td>Iris-setosa</td>\n",
       "    </tr>\n",
       "    <tr>\n",
       "      <th>4</th>\n",
       "      <td>5.0</td>\n",
       "      <td>3.6</td>\n",
       "      <td>1.4</td>\n",
       "      <td>0.2</td>\n",
       "      <td>Iris-setosa</td>\n",
       "    </tr>\n",
       "  </tbody>\n",
       "</table>\n",
       "</div>"
      ],
      "text/plain": [
       "   sepal_length  sepal_width  petal_length  petal_width        class\n",
       "0           5.1          3.5           1.4          0.2  Iris-setosa\n",
       "1           4.9          3.0           1.4          0.2  Iris-setosa\n",
       "2           4.7          3.2           1.3          0.2  Iris-setosa\n",
       "3           4.6          3.1           1.5          0.2  Iris-setosa\n",
       "4           5.0          3.6           1.4          0.2  Iris-setosa"
      ]
     },
     "execution_count": 166,
     "metadata": {},
     "output_type": "execute_result"
    }
   ],
   "source": [
    "# Pass the file name when calling pandas read_csv() function\n",
    "# Specifing separator is optional in this case as pandas automatically detects commas\n",
    "# The file doesn't include a header row as confirmed by checking the original data source\n",
    "# Column names were manually assigned based on iris.names metadata file\n",
    "iris_df = pd.read_csv(\"iris.data\", sep=',', names=['sepal_length', 'sepal_width', 'petal_length', 'petal_width', 'class'])\n",
    "\n",
    "# Use pandas head function to show the first 5 rows giving an idea of the dataset structure\n",
    "iris_df.head(5)"
   ]
  },
  {
   "cell_type": "code",
   "execution_count": 270,
   "metadata": {},
   "outputs": [
    {
     "data": {
      "text/html": [
       "<div>\n",
       "<style scoped>\n",
       "    .dataframe tbody tr th:only-of-type {\n",
       "        vertical-align: middle;\n",
       "    }\n",
       "\n",
       "    .dataframe tbody tr th {\n",
       "        vertical-align: top;\n",
       "    }\n",
       "\n",
       "    .dataframe thead th {\n",
       "        text-align: right;\n",
       "    }\n",
       "</style>\n",
       "<table border=\"1\" class=\"dataframe\">\n",
       "  <thead>\n",
       "    <tr style=\"text-align: right;\">\n",
       "      <th></th>\n",
       "      <th>sepal_length</th>\n",
       "      <th>sepal_width</th>\n",
       "      <th>petal_length</th>\n",
       "      <th>petal_width</th>\n",
       "      <th>class</th>\n",
       "    </tr>\n",
       "  </thead>\n",
       "  <tbody>\n",
       "    <tr>\n",
       "      <th>count</th>\n",
       "      <td>150.000000</td>\n",
       "      <td>150.000000</td>\n",
       "      <td>150.000000</td>\n",
       "      <td>150.000000</td>\n",
       "      <td>150</td>\n",
       "    </tr>\n",
       "    <tr>\n",
       "      <th>unique</th>\n",
       "      <td>NaN</td>\n",
       "      <td>NaN</td>\n",
       "      <td>NaN</td>\n",
       "      <td>NaN</td>\n",
       "      <td>3</td>\n",
       "    </tr>\n",
       "    <tr>\n",
       "      <th>top</th>\n",
       "      <td>NaN</td>\n",
       "      <td>NaN</td>\n",
       "      <td>NaN</td>\n",
       "      <td>NaN</td>\n",
       "      <td>Iris-setosa</td>\n",
       "    </tr>\n",
       "    <tr>\n",
       "      <th>freq</th>\n",
       "      <td>NaN</td>\n",
       "      <td>NaN</td>\n",
       "      <td>NaN</td>\n",
       "      <td>NaN</td>\n",
       "      <td>50</td>\n",
       "    </tr>\n",
       "    <tr>\n",
       "      <th>mean</th>\n",
       "      <td>5.843333</td>\n",
       "      <td>3.054000</td>\n",
       "      <td>3.758667</td>\n",
       "      <td>1.198667</td>\n",
       "      <td>NaN</td>\n",
       "    </tr>\n",
       "    <tr>\n",
       "      <th>std</th>\n",
       "      <td>0.828066</td>\n",
       "      <td>0.433594</td>\n",
       "      <td>1.764420</td>\n",
       "      <td>0.763161</td>\n",
       "      <td>NaN</td>\n",
       "    </tr>\n",
       "    <tr>\n",
       "      <th>min</th>\n",
       "      <td>4.300000</td>\n",
       "      <td>2.000000</td>\n",
       "      <td>1.000000</td>\n",
       "      <td>0.100000</td>\n",
       "      <td>NaN</td>\n",
       "    </tr>\n",
       "    <tr>\n",
       "      <th>25%</th>\n",
       "      <td>5.100000</td>\n",
       "      <td>2.800000</td>\n",
       "      <td>1.600000</td>\n",
       "      <td>0.300000</td>\n",
       "      <td>NaN</td>\n",
       "    </tr>\n",
       "    <tr>\n",
       "      <th>50%</th>\n",
       "      <td>5.800000</td>\n",
       "      <td>3.000000</td>\n",
       "      <td>4.350000</td>\n",
       "      <td>1.300000</td>\n",
       "      <td>NaN</td>\n",
       "    </tr>\n",
       "    <tr>\n",
       "      <th>75%</th>\n",
       "      <td>6.400000</td>\n",
       "      <td>3.300000</td>\n",
       "      <td>5.100000</td>\n",
       "      <td>1.800000</td>\n",
       "      <td>NaN</td>\n",
       "    </tr>\n",
       "    <tr>\n",
       "      <th>max</th>\n",
       "      <td>7.900000</td>\n",
       "      <td>4.400000</td>\n",
       "      <td>6.900000</td>\n",
       "      <td>2.500000</td>\n",
       "      <td>NaN</td>\n",
       "    </tr>\n",
       "  </tbody>\n",
       "</table>\n",
       "</div>"
      ],
      "text/plain": [
       "        sepal_length  sepal_width  petal_length  petal_width        class\n",
       "count     150.000000   150.000000    150.000000   150.000000          150\n",
       "unique           NaN          NaN           NaN          NaN            3\n",
       "top              NaN          NaN           NaN          NaN  Iris-setosa\n",
       "freq             NaN          NaN           NaN          NaN           50\n",
       "mean        5.843333     3.054000      3.758667     1.198667          NaN\n",
       "std         0.828066     0.433594      1.764420     0.763161          NaN\n",
       "min         4.300000     2.000000      1.000000     0.100000          NaN\n",
       "25%         5.100000     2.800000      1.600000     0.300000          NaN\n",
       "50%         5.800000     3.000000      4.350000     1.300000          NaN\n",
       "75%         6.400000     3.300000      5.100000     1.800000          NaN\n",
       "max         7.900000     4.400000      6.900000     2.500000          NaN"
      ]
     },
     "execution_count": 270,
     "metadata": {},
     "output_type": "execute_result"
    }
   ],
   "source": [
    "stats = iris_df.describe(include='all')\n",
    "stats"
   ]
  },
  {
   "cell_type": "markdown",
   "metadata": {},
   "source": [
    "## Features Summary\n",
    "\n",
    "Since the dataset contains four numerical features and one categorical feature (`class`), we analyse each feature separately using the appropriate statistics measures.\n",
    "\n",
    "For the numerical features we summarise data using [pandas.DataFrame](https://pandas.pydata.org/docs/reference/api/pandas.DataFrame.mean.html)  functions, calculating mean, median, standard deviation, minimum and maximum values. \n",
    "\n",
    "For categorical feature, we identify the numbur of unique classes and values count per each calss."
   ]
  },
  {
   "cell_type": "code",
   "execution_count": 282,
   "metadata": {},
   "outputs": [],
   "source": [
    "# Sepal length - Statistics Summary\n",
    "mean = iris_df['sepal_length'].mean()\n",
    "median = iris_df['sepal_length'].median()\n",
    "st_dev = iris_df['sepal_length'].std()\n",
    "min = iris_df['sepal_length'].min()\n",
    "max = iris_df['sepal_length'].max() \n",
    "\n",
    "sepal_len_txt = (f'Sepal length\\n\\n'\n",
    "                      f'Mean:\\t\\t{mean}\\n'\n",
    "                      f'Median:\\t\\t{median}\\n'\n",
    "                      f'Std Dev:\\t{st_dev}\\n' \n",
    "                      f'Min:\\t\\t{min}\\n' \n",
    "                      f'Max:\\t\\t{max}')"
   ]
  },
  {
   "cell_type": "code",
   "execution_count": 283,
   "metadata": {},
   "outputs": [],
   "source": [
    "# Sepal width - Statistics Summary\n",
    "mean = iris_df['sepal_width'].mean()\n",
    "median = iris_df['sepal_width'].median()\n",
    "st_dev = iris_df['sepal_width'].std()\n",
    "min = iris_df['sepal_width'].min()\n",
    "max = iris_df['sepal_width'].max()\n",
    "\n",
    "sepal_wid_txt = (f'Sepal width\\n\\n'\n",
    "                      f'Mean:\\t\\t{mean}\\n'\n",
    "                      f'Median:\\t\\t{median}\\n'\n",
    "                      f'Std Dev:\\t{st_dev}\\n' \n",
    "                      f'Min:\\t\\t{min}\\n' \n",
    "                      f'Max:\\t\\t{max}')\n"
   ]
  },
  {
   "cell_type": "code",
   "execution_count": 284,
   "metadata": {},
   "outputs": [],
   "source": [
    "# Petal length - Statistics Summary \n",
    "mean = iris_df['petal_length'].mean()\n",
    "median = iris_df['petal_length'].median()\n",
    "st_dev = iris_df['petal_length'].std()\n",
    "min = iris_df['petal_length'].min()\n",
    "max = iris_df['petal_length'].max()\n",
    "\n",
    "petal_len_txt = (f'Petal length\\n\\n'\n",
    "                      f'Mean:\\t\\t{mean}\\n'\n",
    "                      f'Median:\\t\\t{median}\\n'\n",
    "                      f'Std Dev:\\t{st_dev}\\n' \n",
    "                      f'Min:\\t\\t{min}\\n' \n",
    "                      f'Max:\\t\\t{max}')"
   ]
  },
  {
   "cell_type": "code",
   "execution_count": 285,
   "metadata": {},
   "outputs": [],
   "source": [
    "# Petal width - Statistics Summary\n",
    "mean = iris_df['petal_width'].mean()\n",
    "median = iris_df['petal_width'].median()\n",
    "st_dev = iris_df['petal_width'].std()       \n",
    "min = iris_df['petal_width'].min()\n",
    "max = iris_df['petal_width'].max()\n",
    "\n",
    "petal_wid_txt = (f'Petal width\\n\\n'\n",
    "                      f'Mean:\\t\\t{mean}\\n'\n",
    "                      f'Median:\\t\\t{median}\\n'\n",
    "                      f'Std Dev:\\t{st_dev}\\n' \n",
    "                      f'Min:\\t\\t{min}\\n' \n",
    "                      f'Max:\\t\\t{max}')"
   ]
  },
  {
   "cell_type": "code",
   "execution_count": 286,
   "metadata": {},
   "outputs": [
    {
     "name": "stdout",
     "output_type": "stream",
     "text": [
      "Class\n",
      "\n",
      "Unique values:\t['Iris-setosa' 'Iris-versicolor' 'Iris-virginica']\n",
      "Value Frequency:\n",
      "class\n",
      "Iris-setosa        50\n",
      "Iris-versicolor    50\n",
      "Iris-virginica     50\n",
      "Name: count, dtype: int64\n"
     ]
    }
   ],
   "source": [
    "# Class - Statistics Summary\n",
    "unique_class = iris_df['class'].unique()\n",
    "frequency = iris_df['class'].value_counts()\n",
    "\n",
    "class_txt = (f'Class\\n\\n'\n",
    "                  f'Unique values:\\t{unique_class}\\n'\n",
    "                  f'Value Frequency:\\n{frequency}')\n",
    "print(class_txt)"
   ]
  },
  {
   "cell_type": "code",
   "execution_count": 287,
   "metadata": {},
   "outputs": [],
   "source": [
    "filename = 'summary.txt'\n",
    "\n",
    "with open(filename, 'w') as f:\n",
    "    f.write(f'{sepal_len_txt}')\n",
    "    f.write('\\n\\n\\n')\n",
    "    f.write(f'{sepal_wid_txt}')\n",
    "    f.write('\\n\\n\\n')\n",
    "    f.write(f'{petal_len_txt}')\n",
    "    f.write('\\n\\n\\n')\n",
    "    f.write(f'{petal_wid_txt}')\n",
    "    f.write('\\n\\n\\n')\n",
    "    f.write(f'{class_txt}')\n",
    "\n"
   ]
  },
  {
   "cell_type": "markdown",
   "metadata": {},
   "source": [
    "## Consolidating Feature Summary Into a Function \n",
    "\n",
    "Since manual calculation is repetetive, now we can create a function that will automate the process of getting feauters summary."
   ]
  },
  {
   "cell_type": "code",
   "execution_count": 288,
   "metadata": {},
   "outputs": [
    {
     "data": {
      "text/plain": [
       "sepal_length    float64\n",
       "sepal_width     float64\n",
       "petal_length    float64\n",
       "petal_width     float64\n",
       "class            object\n",
       "dtype: object"
      ]
     },
     "execution_count": 288,
     "metadata": {},
     "output_type": "execute_result"
    }
   ],
   "source": [
    "# Check the data types of each column\n",
    "data_type = iris_df.dtypes\n",
    "\n",
    "# Show data types\n",
    "data_type"
   ]
  },
  {
   "cell_type": "code",
   "execution_count": null,
   "metadata": {},
   "outputs": [
    {
     "data": {
      "text/plain": [
       "Index(['sepal_length', 'sepal_width', 'petal_length', 'petal_width', 'class'], dtype='object')"
      ]
     },
     "execution_count": 280,
     "metadata": {},
     "output_type": "execute_result"
    }
   ],
   "source": [
    "# Check accessing features (columns) of the dataset\n",
    "# Using the columns attribute, which returns the column names\n",
    "features = iris_df.columns\n",
    "\n",
    "# Sshow features\n",
    "features"
   ]
  },
  {
   "cell_type": "code",
   "execution_count": 281,
   "metadata": {},
   "outputs": [
    {
     "name": "stdout",
     "output_type": "stream",
     "text": [
      "sepal_length\n",
      "\n",
      "Mean:\t\t5.843333333333334\n",
      "Median:\t\t5.8\n",
      "Std Dev:\t0.8280661279778629\n",
      "Min:\t\t4.3\n",
      "Max:\t\t7.9\n",
      "\n",
      "sepal_width\n",
      "\n",
      "Mean:\t\t3.0540000000000003\n",
      "Median:\t\t3.0\n",
      "Std Dev:\t0.4335943113621737\n",
      "Min:\t\t2.0\n",
      "Max:\t\t4.4\n",
      "\n",
      "petal_length\n",
      "\n",
      "Mean:\t\t3.758666666666666\n",
      "Median:\t\t4.35\n",
      "Std Dev:\t1.7644204199522617\n",
      "Min:\t\t1.0\n",
      "Max:\t\t6.9\n",
      "\n",
      "petal_width\n",
      "\n",
      "Mean:\t\t1.1986666666666668\n",
      "Median:\t\t1.3\n",
      "Std Dev:\t0.7631607417008414\n",
      "Min:\t\t0.1\n",
      "Max:\t\t2.5\n",
      "\n",
      "class\n",
      "\n",
      "Unique Classes:\t['Iris-setosa' 'Iris-versicolor' 'Iris-virginica']\n",
      "Value Frequency:\n",
      "class\n",
      "Iris-setosa        50\n",
      "Iris-versicolor    50\n",
      "Iris-virginica     50\n",
      "Name: count, dtype: int64\n",
      "\n",
      "\n"
     ]
    }
   ],
   "source": [
    "\"\"\"\n",
    "Write a function that takes a list of features and returns a string with summary statistics for each feature.\n",
    "\"\"\"\n",
    "def summary_stats(features):\n",
    "    # Initialize an empty string for the function to append the summary of each feature \n",
    "    summary_string = \"\"\n",
    "\n",
    "    # Iterate through each feature (column) in the list of features using a for loop\n",
    "    # Feature names are stored in the variable \"features\" defined outside the function\n",
    "    for column in features:\n",
    "\n",
    "        # Since the function performs certain calculations beased on the column type of data defined within the if, elif blocks, use try-except to handle any potential data type errors\n",
    "        # The try block contains the code that might raise an error\n",
    "        try:\n",
    "\n",
    "            # We know that Iris dataset contains numerical and categorical data\n",
    "            # We can check the data type of each column using the if function and the dtype attribute\n",
    "            # [] is used to access the column in the dataframe\n",
    "            if iris_df[column].dtype == 'float64':\n",
    "                \n",
    "                # For numerical data, use pandas.DataFrame functions to calculate summary statistics: mean, median, standard deviation, min, and max\n",
    "                mean = iris_df[column].mean()\n",
    "                median = iris_df[column].median()\n",
    "                st_dev = iris_df[column].std()\n",
    "                min = iris_df[column].min()\n",
    "                max = iris_df[column].max() \n",
    "\n",
    "                # Create a summary string for the numerical feature using f-string formatting \n",
    "                # To dynamically create the string we pass the column name in the first line followed by the calculated statistics values\n",
    "                # The \\n character is used to create a new line in the string for readability \n",
    "                # The \\t character is used to create a tab space in the string - it allows to align calculated values so the output looks neat\n",
    "                feature_summary = (f'{column}\\n\\n'\n",
    "                            f'Mean:\\t\\t{mean}\\n'\n",
    "                            f'Median:\\t\\t{median}\\n'\n",
    "                            f'Std Dev:\\t{st_dev}\\n' \n",
    "                            f'Min:\\t\\t{min}\\n' \n",
    "                            f'Max:\\t\\t{max}')\n",
    "                \n",
    "            # Using elif instead of else to give the function a different instruction for a specific data type \n",
    "            elif iris_df[column].dtype == 'object':\n",
    "\n",
    "                # For categorical data we use pandas.Series functions to describe unique classes and values frequency within each class\n",
    "                unique_class = iris_df[column].unique()\n",
    "                frequency = iris_df[column].value_counts()  \n",
    "                \n",
    "                # Create a summary string for the categorical feature using f-string formatting\n",
    "                feature_summary = (f'{column}\\n\\n'\n",
    "                            f'Unique Classes:\\t{unique_class}\\n'\n",
    "                            f'Value Frequency:\\n{frequency}')\n",
    "\n",
    "            # Append the summary string for each feature to the summary_string variable\n",
    "            # Add two new lines to separate each feature summary for readability\n",
    "            summary_string += feature_summary + \"\\n\\n\"\n",
    "        \n",
    "        # The except block is executed if an error occurs in the try block\n",
    "        # It outputs a alert string if the program encounterred any other data type other than float64 or object\n",
    "        except:\n",
    "            feature_summary = (f'{column}\\n\\n'\n",
    "                 f\"Summary could not be created for {column} due to unsupported data type {iris_df[column].dtype}\")\n",
    "            # Append the alert string to the summary_string variable\n",
    "            summary_string += feature_summary + \"\\n\\n\"\n",
    "    \n",
    "    # Return the summary_string variable containing the summary for all features\n",
    "    return summary_string \n",
    "    \n",
    "# Assign the list of features (columns) to a variable to be used inside the summary stats function\n",
    "features = iris_df.columns\n",
    "\n",
    "# Call the summary_stats function and pass the features variable to it\n",
    "summary_stats(features)\n",
    "\n",
    "print(summary_stats(features))"
   ]
  },
  {
   "cell_type": "markdown",
   "metadata": {},
   "source": [
    "### References for Summary Stats function\n",
    "The following resources have been used to construct the summary stats function: \n",
    "- Accessing columns:\n",
    "  - [columns](https://pandas.pydata.org/docs/reference/api/pandas.DataFrame.columns.html)\n",
    "- Selecting columns one by one within for loop:\n",
    "  - Pandas guiie on using [[]](https://pandas.pydata.org/docs/user_guide/indexing.html) for selecting columns\n",
    "- Validating data type: \n",
    "  - [dtypes](https://pandas.pydata.org/docs/reference/api/pandas.DataFrame.dtypes.html) method\n",
    "  - [dtypes](https://pandas.pydata.org/docs/user_guide/basics.html#basics-dtypes) user guide\n",
    "- Statisticts functions within pandas.DataFrame for numerical columns:\n",
    "  - [mean](https://pandas.pydata.org/docs/reference/api/pandas.DataFrame.mean.html)\n",
    "  - [median](https://pandas.pydata.org/docs/reference/api/pandas.DataFrame.median.html)\n",
    "  - [std](https://pandas.pydata.org/docs/reference/api/pandas.DataFrame.std.html)\n",
    "  - [min](https://pandas.pydata.org/docs/reference/api/pandas.DataFrame.min.html)\n",
    "  - [max](https://pandas.pydata.org/docs/reference/api/pandas.DataFrame.max.html)\n",
    "- Functions within pandas.Series for analysing categorical data:\n",
    "  - [unique](https://pandas.pydata.org/docs/reference/api/pandas.Series.unique.html)\n",
    "  - [value_counts](https://pandas.pydata.org/docs/reference/api/pandas.Series.value_counts.html)\n"
   ]
  },
  {
   "cell_type": "markdown",
   "metadata": {},
   "source": []
  }
 ],
 "metadata": {
  "kernelspec": {
   "display_name": "base",
   "language": "python",
   "name": "python3"
  },
  "language_info": {
   "codemirror_mode": {
    "name": "ipython",
    "version": 3
   },
   "file_extension": ".py",
   "mimetype": "text/x-python",
   "name": "python",
   "nbconvert_exporter": "python",
   "pygments_lexer": "ipython3",
   "version": "3.11.5"
  }
 },
 "nbformat": 4,
 "nbformat_minor": 2
}
